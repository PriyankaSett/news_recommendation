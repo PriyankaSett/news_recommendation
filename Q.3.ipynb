{
 "cells": [
  {
   "cell_type": "markdown",
   "id": "95f378b7",
   "metadata": {},
   "source": [
    "**Q-3.  \n",
    "Imagine you have a dataset where you have different categories of data, Now\n",
    "you need to find the most similar data to the given data by using any 4 different\n",
    "similarity algorithms. Now you have to build a model which can find the most similar\n",
    "data to the given data. \n",
    "Dataset - This is the Dataset (https://www.kaggle.com/datasets/rmisra/news-category-dataset) You can use this dataset for this question.**"
   ]
  },
  {
   "cell_type": "code",
   "execution_count": 1,
   "id": "d4fcbf4e",
   "metadata": {},
   "outputs": [],
   "source": [
    "import numpy as np \n",
    "import pandas as pd \n",
    "import matplotlib.pyplot as plt\n",
    "import seaborn as sns \n",
    "%matplotlib inline\n",
    "pd.set_option('display.max_columns', None)\n",
    "from matplotlib import *\n",
    "import sys\n",
    "from pylab import *\n",
    "import json\n",
    "\n",
    "import warnings\n",
    "warnings.filterwarnings('ignore')"
   ]
  },
  {
   "cell_type": "code",
   "execution_count": 2,
   "id": "e3c5f8bb",
   "metadata": {},
   "outputs": [],
   "source": [
    "#with open('News_Category_Dataset_v3.json') as f: \n",
    "#    d = json.load(f)\n",
    "\n",
    "\n",
    "data = [json.loads(line) for line in open('News_Category_Dataset_v3.json', 'r')]"
   ]
  },
  {
   "cell_type": "code",
   "execution_count": 3,
   "id": "41af943c",
   "metadata": {},
   "outputs": [],
   "source": [
    "df = pd.json_normalize(data)"
   ]
  },
  {
   "cell_type": "markdown",
   "id": "62a82932",
   "metadata": {},
   "source": [
    "## Basic Info :"
   ]
  },
  {
   "cell_type": "code",
   "execution_count": 4,
   "id": "415cdb70",
   "metadata": {},
   "outputs": [
    {
     "data": {
      "text/html": [
       "<div>\n",
       "<style scoped>\n",
       "    .dataframe tbody tr th:only-of-type {\n",
       "        vertical-align: middle;\n",
       "    }\n",
       "\n",
       "    .dataframe tbody tr th {\n",
       "        vertical-align: top;\n",
       "    }\n",
       "\n",
       "    .dataframe thead th {\n",
       "        text-align: right;\n",
       "    }\n",
       "</style>\n",
       "<table border=\"1\" class=\"dataframe\">\n",
       "  <thead>\n",
       "    <tr style=\"text-align: right;\">\n",
       "      <th></th>\n",
       "      <th>link</th>\n",
       "      <th>headline</th>\n",
       "      <th>category</th>\n",
       "      <th>short_description</th>\n",
       "      <th>authors</th>\n",
       "      <th>date</th>\n",
       "    </tr>\n",
       "  </thead>\n",
       "  <tbody>\n",
       "    <tr>\n",
       "      <th>0</th>\n",
       "      <td>https://www.huffpost.com/entry/covid-boosters-...</td>\n",
       "      <td>Over 4 Million Americans Roll Up Sleeves For O...</td>\n",
       "      <td>U.S. NEWS</td>\n",
       "      <td>Health experts said it is too early to predict...</td>\n",
       "      <td>Carla K. Johnson, AP</td>\n",
       "      <td>2022-09-23</td>\n",
       "    </tr>\n",
       "    <tr>\n",
       "      <th>1</th>\n",
       "      <td>https://www.huffpost.com/entry/american-airlin...</td>\n",
       "      <td>American Airlines Flyer Charged, Banned For Li...</td>\n",
       "      <td>U.S. NEWS</td>\n",
       "      <td>He was subdued by passengers and crew when he ...</td>\n",
       "      <td>Mary Papenfuss</td>\n",
       "      <td>2022-09-23</td>\n",
       "    </tr>\n",
       "    <tr>\n",
       "      <th>2</th>\n",
       "      <td>https://www.huffpost.com/entry/funniest-tweets...</td>\n",
       "      <td>23 Of The Funniest Tweets About Cats And Dogs ...</td>\n",
       "      <td>COMEDY</td>\n",
       "      <td>\"Until you have a dog you don't understand wha...</td>\n",
       "      <td>Elyse Wanshel</td>\n",
       "      <td>2022-09-23</td>\n",
       "    </tr>\n",
       "    <tr>\n",
       "      <th>3</th>\n",
       "      <td>https://www.huffpost.com/entry/funniest-parent...</td>\n",
       "      <td>The Funniest Tweets From Parents This Week (Se...</td>\n",
       "      <td>PARENTING</td>\n",
       "      <td>\"Accidentally put grown-up toothpaste on my to...</td>\n",
       "      <td>Caroline Bologna</td>\n",
       "      <td>2022-09-23</td>\n",
       "    </tr>\n",
       "    <tr>\n",
       "      <th>4</th>\n",
       "      <td>https://www.huffpost.com/entry/amy-cooper-lose...</td>\n",
       "      <td>Woman Who Called Cops On Black Bird-Watcher Lo...</td>\n",
       "      <td>U.S. NEWS</td>\n",
       "      <td>Amy Cooper accused investment firm Franklin Te...</td>\n",
       "      <td>Nina Golgowski</td>\n",
       "      <td>2022-09-22</td>\n",
       "    </tr>\n",
       "    <tr>\n",
       "      <th>5</th>\n",
       "      <td>https://www.huffpost.com/entry/belk-worker-fou...</td>\n",
       "      <td>Cleaner Was Dead In Belk Bathroom For 4 Days B...</td>\n",
       "      <td>U.S. NEWS</td>\n",
       "      <td>The 63-year-old woman was seen working at the ...</td>\n",
       "      <td></td>\n",
       "      <td>2022-09-22</td>\n",
       "    </tr>\n",
       "    <tr>\n",
       "      <th>6</th>\n",
       "      <td>https://www.huffpost.com/entry/reporter-gets-a...</td>\n",
       "      <td>Reporter Gets Adorable Surprise From Her Boyfr...</td>\n",
       "      <td>U.S. NEWS</td>\n",
       "      <td>\"Who's that behind you?\" an anchor for New Yor...</td>\n",
       "      <td>Elyse Wanshel</td>\n",
       "      <td>2022-09-22</td>\n",
       "    </tr>\n",
       "    <tr>\n",
       "      <th>7</th>\n",
       "      <td>https://www.huffpost.com/entry/puerto-rico-wat...</td>\n",
       "      <td>Puerto Ricans Desperate For Water After Hurric...</td>\n",
       "      <td>WORLD NEWS</td>\n",
       "      <td>More than half a million people remained witho...</td>\n",
       "      <td>DÁNICA COTO, AP</td>\n",
       "      <td>2022-09-22</td>\n",
       "    </tr>\n",
       "    <tr>\n",
       "      <th>8</th>\n",
       "      <td>https://www.huffpost.com/entry/mija-documentar...</td>\n",
       "      <td>How A New Documentary Captures The Complexity ...</td>\n",
       "      <td>CULTURE &amp; ARTS</td>\n",
       "      <td>In \"Mija,\" director Isabel Castro combined mus...</td>\n",
       "      <td>Marina Fang</td>\n",
       "      <td>2022-09-22</td>\n",
       "    </tr>\n",
       "    <tr>\n",
       "      <th>9</th>\n",
       "      <td>https://www.huffpost.com/entry/biden-un-russia...</td>\n",
       "      <td>Biden At UN To Call Russian War An Affront To ...</td>\n",
       "      <td>WORLD NEWS</td>\n",
       "      <td>White House officials say the crux of the pres...</td>\n",
       "      <td>Aamer Madhani, AP</td>\n",
       "      <td>2022-09-21</td>\n",
       "    </tr>\n",
       "  </tbody>\n",
       "</table>\n",
       "</div>"
      ],
      "text/plain": [
       "                                                link  \\\n",
       "0  https://www.huffpost.com/entry/covid-boosters-...   \n",
       "1  https://www.huffpost.com/entry/american-airlin...   \n",
       "2  https://www.huffpost.com/entry/funniest-tweets...   \n",
       "3  https://www.huffpost.com/entry/funniest-parent...   \n",
       "4  https://www.huffpost.com/entry/amy-cooper-lose...   \n",
       "5  https://www.huffpost.com/entry/belk-worker-fou...   \n",
       "6  https://www.huffpost.com/entry/reporter-gets-a...   \n",
       "7  https://www.huffpost.com/entry/puerto-rico-wat...   \n",
       "8  https://www.huffpost.com/entry/mija-documentar...   \n",
       "9  https://www.huffpost.com/entry/biden-un-russia...   \n",
       "\n",
       "                                            headline        category  \\\n",
       "0  Over 4 Million Americans Roll Up Sleeves For O...       U.S. NEWS   \n",
       "1  American Airlines Flyer Charged, Banned For Li...       U.S. NEWS   \n",
       "2  23 Of The Funniest Tweets About Cats And Dogs ...          COMEDY   \n",
       "3  The Funniest Tweets From Parents This Week (Se...       PARENTING   \n",
       "4  Woman Who Called Cops On Black Bird-Watcher Lo...       U.S. NEWS   \n",
       "5  Cleaner Was Dead In Belk Bathroom For 4 Days B...       U.S. NEWS   \n",
       "6  Reporter Gets Adorable Surprise From Her Boyfr...       U.S. NEWS   \n",
       "7  Puerto Ricans Desperate For Water After Hurric...      WORLD NEWS   \n",
       "8  How A New Documentary Captures The Complexity ...  CULTURE & ARTS   \n",
       "9  Biden At UN To Call Russian War An Affront To ...      WORLD NEWS   \n",
       "\n",
       "                                   short_description               authors  \\\n",
       "0  Health experts said it is too early to predict...  Carla K. Johnson, AP   \n",
       "1  He was subdued by passengers and crew when he ...        Mary Papenfuss   \n",
       "2  \"Until you have a dog you don't understand wha...         Elyse Wanshel   \n",
       "3  \"Accidentally put grown-up toothpaste on my to...      Caroline Bologna   \n",
       "4  Amy Cooper accused investment firm Franklin Te...        Nina Golgowski   \n",
       "5  The 63-year-old woman was seen working at the ...                         \n",
       "6  \"Who's that behind you?\" an anchor for New Yor...         Elyse Wanshel   \n",
       "7  More than half a million people remained witho...       DÁNICA COTO, AP   \n",
       "8  In \"Mija,\" director Isabel Castro combined mus...           Marina Fang   \n",
       "9  White House officials say the crux of the pres...     Aamer Madhani, AP   \n",
       "\n",
       "         date  \n",
       "0  2022-09-23  \n",
       "1  2022-09-23  \n",
       "2  2022-09-23  \n",
       "3  2022-09-23  \n",
       "4  2022-09-22  \n",
       "5  2022-09-22  \n",
       "6  2022-09-22  \n",
       "7  2022-09-22  \n",
       "8  2022-09-22  \n",
       "9  2022-09-21  "
      ]
     },
     "execution_count": 4,
     "metadata": {},
     "output_type": "execute_result"
    }
   ],
   "source": [
    "df.head(10)"
   ]
  },
  {
   "cell_type": "code",
   "execution_count": 5,
   "id": "5bb24a7a",
   "metadata": {},
   "outputs": [
    {
     "data": {
      "text/plain": [
       "(209527, 6)"
      ]
     },
     "execution_count": 5,
     "metadata": {},
     "output_type": "execute_result"
    }
   ],
   "source": [
    "df.shape"
   ]
  },
  {
   "cell_type": "code",
   "execution_count": 6,
   "id": "ed1fe635",
   "metadata": {},
   "outputs": [
    {
     "data": {
      "text/plain": [
       "link                 0\n",
       "headline             0\n",
       "category             0\n",
       "short_description    0\n",
       "authors              0\n",
       "date                 0\n",
       "dtype: int64"
      ]
     },
     "execution_count": 6,
     "metadata": {},
     "output_type": "execute_result"
    }
   ],
   "source": [
    "df.isnull().sum()"
   ]
  },
  {
   "cell_type": "code",
   "execution_count": 7,
   "id": "cb6242a7",
   "metadata": {},
   "outputs": [
    {
     "name": "stdout",
     "output_type": "stream",
     "text": [
      "No. of link values : 209486\n",
      "No. of headline values : 207996\n",
      "No. of category values : 42\n",
      "No. of short_description values : 187022\n",
      "No. of authors values : 29169\n",
      "No. of date values : 3890\n"
     ]
    }
   ],
   "source": [
    "for items in df.columns:\n",
    "    print(f'No. of {items} values : {len(df[items].value_counts())}')"
   ]
  },
  {
   "cell_type": "code",
   "execution_count": 8,
   "id": "7bd1d427",
   "metadata": {},
   "outputs": [
    {
     "data": {
      "text/plain": [
       "<AxesSubplot:xlabel='count', ylabel='category'>"
      ]
     },
     "execution_count": 8,
     "metadata": {},
     "output_type": "execute_result"
    },
    {
     "data": {
      "image/png": "[encoded data removed]",
      "text/plain": [
       "<Figure size 720x720 with 1 Axes>"
      ]
     },
     "metadata": {
      "needs_background": "light"
     },
     "output_type": "display_data"
    }
   ],
   "source": [
    "plt.figure(figsize=(10,10))\n",
    "sns.countplot(y = df['category'])"
   ]
  },
  {
   "cell_type": "markdown",
   "id": "bb608cb6",
   "metadata": {},
   "source": [
    "In this dataset we have no null values. A small exploration shows that majority of data falls under Political category. Then comes Entertainment and Wellness. Then comes Parenting, Style and Beauty, Travel and Healthy Living. "
   ]
  },
  {
   "cell_type": "markdown",
   "id": "3bb663a5",
   "metadata": {},
   "source": [
    "## Similarity Algorithm : \n",
    "\n",
    "One can find the distance between two textual data using several approaches as - Hamming Distance, Cosine Similarity, Euclidean distance, Jaccard Coefficient, Manhattan distance etc. \n",
    "In this project we will use only the above mentioned algorithms to find the similarity between texts. \n",
    "\n",
    "Now as we are using text data, we need to transform this data into vectos. For that first we need to clean the data (removing stopwords, punctuation, url, emoticons etc) and then vectorize it. We will use TF-IDF/Countvectorizer vectorization and the resultant vectors will be used as input to study the textual similarity. "
   ]
  },
  {
   "cell_type": "code",
   "execution_count": 9,
   "id": "0650aa58",
   "metadata": {},
   "outputs": [],
   "source": [
    "import re \n",
    "import string\n",
    "import nltk\n",
    "from nltk.corpus import stopwords\n",
    "from nltk.stem.wordnet import WordNetLemmatizer\n",
    "from nltk.stem.porter import PorterStemmer"
   ]
  },
  {
   "cell_type": "code",
   "execution_count": 10,
   "id": "3d59f231",
   "metadata": {},
   "outputs": [],
   "source": [
    "def cleaning_process(text1) :\n",
    "    text = text1\n",
    "    #print(text)\n",
    "    if type(text) == str : \n",
    "        text = re.sub(r\"http\\S+\", \"\", text) # removing url\n",
    "        \n",
    "        emoji_pattern = re.compile(\"[\"\n",
    "        u\"\\U0001F600-\\U0001F64F\"  # emoticons\n",
    "        u\"\\U0001F300-\\U0001F5FF\"  # symbols & pictographs\n",
    "        u\"\\U0001F680-\\U0001F6FF\"  # transport & map symbols\n",
    "        u\"\\U0001F1E0-\\U0001F1FF\"  # flags (iOS)\n",
    "                           \"]+\", flags=re.UNICODE)\n",
    "        #print(emoji_pattern.sub(r'', text)) # no emoji\n",
    "        text = emoji_pattern.sub(r'', text)\n",
    "        nopunc = [char for char in text if char not in string.punctuation] # removing punctuation\n",
    "        text = ''.join(nopunc)\n",
    "        text = ''.join([i for i in text if not i.isdigit()]) # removing digits\n",
    "        #text = text.lower()\n",
    "        #tokens = nltk.word_tokenize(text)\n",
    "        #tokens = [w for w in tokens if w not in stopwords.words('english')]\n",
    "        \n",
    "        \n",
    "        return text\n",
    "    \n",
    "    return None"
   ]
  },
  {
   "cell_type": "markdown",
   "id": "f15db36c",
   "metadata": {},
   "source": [
    "In our given data we have 4 text columns. We will use them all as text input. To do that we will concatenate these colums into one. "
   ]
  },
  {
   "cell_type": "code",
   "execution_count": 11,
   "id": "261ae632",
   "metadata": {},
   "outputs": [],
   "source": [
    "df['fulltext'] = df['headline'] + ' ' + df['category'] + ' ' + df['short_description'] + ' ' + df['authors']\n",
    "#df['fulltext'] = df['short_description']"
   ]
  },
  {
   "cell_type": "code",
   "execution_count": 12,
   "id": "c8cbbee7",
   "metadata": {},
   "outputs": [],
   "source": [
    "df['cleanedtext'] = df['fulltext'].apply(cleaning_process)"
   ]
  },
  {
   "cell_type": "code",
   "execution_count": 13,
   "id": "907f08c7",
   "metadata": {},
   "outputs": [
    {
     "data": {
      "text/plain": [
       "0    Over  Million Americans Roll Up Sleeves For Om...\n",
       "1    American Airlines Flyer Charged Banned For Lif...\n",
       "2     Of The Funniest Tweets About Cats And Dogs Th...\n",
       "3    The Funniest Tweets From Parents This Week Sep...\n",
       "4    Woman Who Called Cops On Black BirdWatcher Los...\n",
       "5    Cleaner Was Dead In Belk Bathroom For  Days Be...\n",
       "6    Reporter Gets Adorable Surprise From Her Boyfr...\n",
       "7    Puerto Ricans Desperate For Water After Hurric...\n",
       "8    How A New Documentary Captures The Complexity ...\n",
       "9    Biden At UN To Call Russian War An Affront To ...\n",
       "Name: cleanedtext, dtype: object"
      ]
     },
     "execution_count": 13,
     "metadata": {},
     "output_type": "execute_result"
    }
   ],
   "source": [
    "df['cleanedtext'][0:10]"
   ]
  },
  {
   "cell_type": "markdown",
   "id": "9a52d3de",
   "metadata": {},
   "source": [
    "For our further study we will use the 'cleanedtext' columns as input. "
   ]
  },
  {
   "cell_type": "code",
   "execution_count": 14,
   "id": "bb518f33",
   "metadata": {},
   "outputs": [],
   "source": [
    "df1 = df[0:500]"
   ]
  },
  {
   "cell_type": "code",
   "execution_count": 15,
   "id": "38a3a2eb",
   "metadata": {},
   "outputs": [
    {
     "data": {
      "text/html": [
       "<div>\n",
       "<style scoped>\n",
       "    .dataframe tbody tr th:only-of-type {\n",
       "        vertical-align: middle;\n",
       "    }\n",
       "\n",
       "    .dataframe tbody tr th {\n",
       "        vertical-align: top;\n",
       "    }\n",
       "\n",
       "    .dataframe thead th {\n",
       "        text-align: right;\n",
       "    }\n",
       "</style>\n",
       "<table border=\"1\" class=\"dataframe\">\n",
       "  <thead>\n",
       "    <tr style=\"text-align: right;\">\n",
       "      <th></th>\n",
       "      <th>link</th>\n",
       "      <th>headline</th>\n",
       "      <th>category</th>\n",
       "      <th>short_description</th>\n",
       "      <th>authors</th>\n",
       "      <th>date</th>\n",
       "      <th>fulltext</th>\n",
       "      <th>cleanedtext</th>\n",
       "    </tr>\n",
       "  </thead>\n",
       "  <tbody>\n",
       "    <tr>\n",
       "      <th>0</th>\n",
       "      <td>https://www.huffpost.com/entry/covid-boosters-...</td>\n",
       "      <td>Over 4 Million Americans Roll Up Sleeves For O...</td>\n",
       "      <td>U.S. NEWS</td>\n",
       "      <td>Health experts said it is too early to predict...</td>\n",
       "      <td>Carla K. Johnson, AP</td>\n",
       "      <td>2022-09-23</td>\n",
       "      <td>Over 4 Million Americans Roll Up Sleeves For O...</td>\n",
       "      <td>Over  Million Americans Roll Up Sleeves For Om...</td>\n",
       "    </tr>\n",
       "    <tr>\n",
       "      <th>1</th>\n",
       "      <td>https://www.huffpost.com/entry/american-airlin...</td>\n",
       "      <td>American Airlines Flyer Charged, Banned For Li...</td>\n",
       "      <td>U.S. NEWS</td>\n",
       "      <td>He was subdued by passengers and crew when he ...</td>\n",
       "      <td>Mary Papenfuss</td>\n",
       "      <td>2022-09-23</td>\n",
       "      <td>American Airlines Flyer Charged, Banned For Li...</td>\n",
       "      <td>American Airlines Flyer Charged Banned For Lif...</td>\n",
       "    </tr>\n",
       "    <tr>\n",
       "      <th>2</th>\n",
       "      <td>https://www.huffpost.com/entry/funniest-tweets...</td>\n",
       "      <td>23 Of The Funniest Tweets About Cats And Dogs ...</td>\n",
       "      <td>COMEDY</td>\n",
       "      <td>\"Until you have a dog you don't understand wha...</td>\n",
       "      <td>Elyse Wanshel</td>\n",
       "      <td>2022-09-23</td>\n",
       "      <td>23 Of The Funniest Tweets About Cats And Dogs ...</td>\n",
       "      <td>Of The Funniest Tweets About Cats And Dogs Th...</td>\n",
       "    </tr>\n",
       "    <tr>\n",
       "      <th>3</th>\n",
       "      <td>https://www.huffpost.com/entry/funniest-parent...</td>\n",
       "      <td>The Funniest Tweets From Parents This Week (Se...</td>\n",
       "      <td>PARENTING</td>\n",
       "      <td>\"Accidentally put grown-up toothpaste on my to...</td>\n",
       "      <td>Caroline Bologna</td>\n",
       "      <td>2022-09-23</td>\n",
       "      <td>The Funniest Tweets From Parents This Week (Se...</td>\n",
       "      <td>The Funniest Tweets From Parents This Week Sep...</td>\n",
       "    </tr>\n",
       "    <tr>\n",
       "      <th>4</th>\n",
       "      <td>https://www.huffpost.com/entry/amy-cooper-lose...</td>\n",
       "      <td>Woman Who Called Cops On Black Bird-Watcher Lo...</td>\n",
       "      <td>U.S. NEWS</td>\n",
       "      <td>Amy Cooper accused investment firm Franklin Te...</td>\n",
       "      <td>Nina Golgowski</td>\n",
       "      <td>2022-09-22</td>\n",
       "      <td>Woman Who Called Cops On Black Bird-Watcher Lo...</td>\n",
       "      <td>Woman Who Called Cops On Black BirdWatcher Los...</td>\n",
       "    </tr>\n",
       "  </tbody>\n",
       "</table>\n",
       "</div>"
      ],
      "text/plain": [
       "                                                link  \\\n",
       "0  https://www.huffpost.com/entry/covid-boosters-...   \n",
       "1  https://www.huffpost.com/entry/american-airlin...   \n",
       "2  https://www.huffpost.com/entry/funniest-tweets...   \n",
       "3  https://www.huffpost.com/entry/funniest-parent...   \n",
       "4  https://www.huffpost.com/entry/amy-cooper-lose...   \n",
       "\n",
       "                                            headline   category  \\\n",
       "0  Over 4 Million Americans Roll Up Sleeves For O...  U.S. NEWS   \n",
       "1  American Airlines Flyer Charged, Banned For Li...  U.S. NEWS   \n",
       "2  23 Of The Funniest Tweets About Cats And Dogs ...     COMEDY   \n",
       "3  The Funniest Tweets From Parents This Week (Se...  PARENTING   \n",
       "4  Woman Who Called Cops On Black Bird-Watcher Lo...  U.S. NEWS   \n",
       "\n",
       "                                   short_description               authors  \\\n",
       "0  Health experts said it is too early to predict...  Carla K. Johnson, AP   \n",
       "1  He was subdued by passengers and crew when he ...        Mary Papenfuss   \n",
       "2  \"Until you have a dog you don't understand wha...         Elyse Wanshel   \n",
       "3  \"Accidentally put grown-up toothpaste on my to...      Caroline Bologna   \n",
       "4  Amy Cooper accused investment firm Franklin Te...        Nina Golgowski   \n",
       "\n",
       "         date                                           fulltext  \\\n",
       "0  2022-09-23  Over 4 Million Americans Roll Up Sleeves For O...   \n",
       "1  2022-09-23  American Airlines Flyer Charged, Banned For Li...   \n",
       "2  2022-09-23  23 Of The Funniest Tweets About Cats And Dogs ...   \n",
       "3  2022-09-23  The Funniest Tweets From Parents This Week (Se...   \n",
       "4  2022-09-22  Woman Who Called Cops On Black Bird-Watcher Lo...   \n",
       "\n",
       "                                         cleanedtext  \n",
       "0  Over  Million Americans Roll Up Sleeves For Om...  \n",
       "1  American Airlines Flyer Charged Banned For Lif...  \n",
       "2   Of The Funniest Tweets About Cats And Dogs Th...  \n",
       "3  The Funniest Tweets From Parents This Week Sep...  \n",
       "4  Woman Who Called Cops On Black BirdWatcher Los...  "
      ]
     },
     "execution_count": 15,
     "metadata": {},
     "output_type": "execute_result"
    }
   ],
   "source": [
    "df1.head()"
   ]
  },
  {
   "cell_type": "markdown",
   "id": "53e6c2ae",
   "metadata": {},
   "source": [
    "#### Vectorizing the input text"
   ]
  },
  {
   "cell_type": "code",
   "execution_count": 16,
   "id": "60588e2d",
   "metadata": {},
   "outputs": [],
   "source": [
    "from sklearn.feature_extraction.text import TfidfVectorizer\n",
    "from sklearn.feature_extraction.text import CountVectorizer"
   ]
  },
  {
   "cell_type": "code",
   "execution_count": 17,
   "id": "a2571360",
   "metadata": {},
   "outputs": [],
   "source": [
    "#vects = TfidfVectorizer(stop_words='english')\n",
    "vects = CountVectorizer(stop_words='english')\n",
    "text_vect = vects.fit_transform(df1['cleanedtext'])"
   ]
  },
  {
   "cell_type": "code",
   "execution_count": 18,
   "id": "32077819",
   "metadata": {},
   "outputs": [
    {
     "data": {
      "text/plain": [
       "(500, 4818)"
      ]
     },
     "execution_count": 18,
     "metadata": {},
     "output_type": "execute_result"
    }
   ],
   "source": [
    "#vects.vocabulary_\n",
    "text_vect.shape"
   ]
  },
  {
   "cell_type": "code",
   "execution_count": 19,
   "id": "40bc0672",
   "metadata": {},
   "outputs": [
    {
     "data": {
      "text/plain": [
       "scipy.sparse.csr.csr_matrix"
      ]
     },
     "execution_count": 19,
     "metadata": {},
     "output_type": "execute_result"
    }
   ],
   "source": [
    "type(text_vect)"
   ]
  },
  {
   "cell_type": "code",
   "execution_count": 20,
   "id": "f0665073",
   "metadata": {},
   "outputs": [],
   "source": [
    "#text_vect_dense = text_vect.todense()"
   ]
  },
  {
   "cell_type": "markdown",
   "id": "73f75558",
   "metadata": {},
   "source": [
    "Now we will use 4 different similarity algorithm and find that which algorithm gives the most similar data. \n",
    "For Euclidean distance, lesser distance means more similarity. Similar idea goes for cosine similarity, hamming distance and jaccard similarity.  "
   ]
  },
  {
   "cell_type": "code",
   "execution_count": 21,
   "id": "a8173313",
   "metadata": {},
   "outputs": [],
   "source": [
    "# Import linear_kernel\n",
    "from sklearn.metrics.pairwise import cosine_similarity\n",
    "from sklearn.metrics import euclidean_distances"
   ]
  },
  {
   "cell_type": "code",
   "execution_count": 22,
   "id": "1b1a817f",
   "metadata": {},
   "outputs": [],
   "source": [
    "# Compute the cosine similarity matrix\n",
    "cosine_sim = cosine_similarity(text_vect, text_vect)\n",
    "\n",
    "euclidean_distances_sim = euclidean_distances(text_vect, text_vect)"
   ]
  },
  {
   "cell_type": "code",
   "execution_count": 23,
   "id": "81a381b1",
   "metadata": {},
   "outputs": [],
   "source": [
    "#Construct a reverse map of indices and headlines \n",
    "index_values = pd.Series(df1.index, index=df1['headline']).drop_duplicates()\n"
   ]
  },
  {
   "cell_type": "code",
   "execution_count": 24,
   "id": "b5883a9b",
   "metadata": {},
   "outputs": [
    {
     "data": {
      "text/plain": [
       "headline\n",
       "Over 4 Million Americans Roll Up Sleeves For Omicron-Targeted COVID Boosters                 0\n",
       "American Airlines Flyer Charged, Banned For Life After Punching Flight Attendant On Video    1\n",
       "23 Of The Funniest Tweets About Cats And Dogs This Week (Sept. 17-23)                        2\n",
       "The Funniest Tweets From Parents This Week (Sept. 17-23)                                     3\n",
       "Woman Who Called Cops On Black Bird-Watcher Loses Lawsuit Against Ex-Employer                4\n",
       "Cleaner Was Dead In Belk Bathroom For 4 Days Before Body Found: Police                       5\n",
       "Reporter Gets Adorable Surprise From Her Boyfriend While Live On TV                          6\n",
       "Puerto Ricans Desperate For Water After Hurricane Fiona’s Rampage                            7\n",
       "How A New Documentary Captures The Complexity Of Being A Child Of Immigrants                 8\n",
       "Biden At UN To Call Russian War An Affront To Body's Charter                                 9\n",
       "dtype: int64"
      ]
     },
     "execution_count": 24,
     "metadata": {},
     "output_type": "execute_result"
    }
   ],
   "source": [
    "index_values[0:10]"
   ]
  },
  {
   "cell_type": "code",
   "execution_count": 25,
   "id": "0a3c05d9",
   "metadata": {},
   "outputs": [],
   "source": [
    "def get_recommendations(title, sim_algo=cosine_sim, rev = False):\n",
    "    \n",
    "    # Get the index of the dataframe that matches the headline\n",
    "    idx = index_values[title]\n",
    "    \n",
    "    # Get the pairwsie similarity scores of all data with that headline\n",
    "    algo_scores = list(enumerate(sim_algo[idx]))\n",
    "    \n",
    "    \n",
    "    # Sort the data based on the similarity scores\n",
    "    algo_scores = sorted(algo_scores, key=lambda x: x[1], reverse=rev)\n",
    "    \n",
    "        \n",
    "    \n",
    "    # Get the scores of the 10 most similar headlines\n",
    "    algo_scores = algo_scores[1:20]\n",
    "    \n",
    "    \n",
    "    # Get the headline indices\n",
    "    sim_data_indices = [i[0] for i in algo_scores]\n",
    "    sim_scores = [i[1] for i in algo_scores]\n",
    "    \n",
    "\n",
    "    # Return the top 10 most similar headlines\n",
    "    return df1[['headline', 'category', 'short_description', 'authors']].iloc[sim_data_indices], sim_scores\n"
   ]
  },
  {
   "cell_type": "code",
   "execution_count": 26,
   "id": "91e6d504",
   "metadata": {},
   "outputs": [
    {
     "data": {
      "text/plain": [
       "'How A New Documentary Captures The Complexity Of Being A Child Of Immigrants'"
      ]
     },
     "execution_count": 26,
     "metadata": {},
     "output_type": "execute_result"
    }
   ],
   "source": [
    "txt1 = df1['headline'].iloc[8]\n",
    "txt1"
   ]
  },
  {
   "cell_type": "code",
   "execution_count": 27,
   "id": "7ae3c695",
   "metadata": {},
   "outputs": [
    {
     "data": {
      "text/plain": [
       "'How A New Documentary Captures The Complexity Of Being A Child Of Immigrants CULTURE  ARTS In Mija director Isabel Castro combined music documentaries with the style of Euphoria and Clueless to tell a more nuanced immigration story Marina Fang'"
      ]
     },
     "execution_count": 27,
     "metadata": {},
     "output_type": "execute_result"
    }
   ],
   "source": [
    "df1['cleanedtext'].iloc[8]"
   ]
  },
  {
   "cell_type": "code",
   "execution_count": 28,
   "id": "167a7e31",
   "metadata": {},
   "outputs": [
    {
     "data": {
      "text/plain": [
       "'Marina Fang'"
      ]
     },
     "execution_count": 28,
     "metadata": {},
     "output_type": "execute_result"
    }
   ],
   "source": [
    "df1['authors'][8]"
   ]
  },
  {
   "cell_type": "code",
   "execution_count": 29,
   "id": "90906ac2",
   "metadata": {},
   "outputs": [
    {
     "data": {
      "text/plain": [
       "'CULTURE & ARTS'"
      ]
     },
     "execution_count": 29,
     "metadata": {},
     "output_type": "execute_result"
    }
   ],
   "source": [
    "df1['category'][8]"
   ]
  },
  {
   "cell_type": "code",
   "execution_count": null,
   "id": "f936acf6",
   "metadata": {},
   "outputs": [],
   "source": []
  },
  {
   "cell_type": "code",
   "execution_count": 30,
   "id": "ef85f82c",
   "metadata": {},
   "outputs": [
    {
     "data": {
      "text/plain": [
       "(                                              headline        category  \\\n",
       " 449  'Menudo: Forever Young' Looks At The Exploitat...  CULTURE & ARTS   \n",
       " 66   'Sidney' Tackles The Not-So-Comfortable Conver...  CULTURE & ARTS   \n",
       " 16   'Reboot' Is A Clever And Not Too Navel-Gazey L...  CULTURE & ARTS   \n",
       " 281  What’s Going On With HBO Max? Here’s What We K...  CULTURE & ARTS   \n",
       " 360  'The Idol' Trailer Stars Lily-Rose Depp In 'Sl...   ENTERTAINMENT   \n",
       " 391  The Snubs And Surprises Of The 2022 Emmy Nomin...  CULTURE & ARTS   \n",
       " 45   Meet Alex Aster, The TikToker Changing The Pub...  CULTURE & ARTS   \n",
       " 484  Twitter Erupts With Opinions After Beyoncé Dr...   ENTERTAINMENT   \n",
       " 454  How '90s Teen Movies Reflected The Real-Life H...  CULTURE & ARTS   \n",
       " 127  Lisa Loeb Paved Her Own Way In The '90s — A Ra...  CULTURE & ARTS   \n",
       " 204  'Mike' And The Flawed Allure Of Authorized Bio...  CULTURE & ARTS   \n",
       " 65   How Ani Liu Is Brilliantly Disguising Her Art ...  CULTURE & ARTS   \n",
       " 74   James Cameron Presents New Scenes From 'Avatar...   ENTERTAINMENT   \n",
       " 483  Jennifer Lopez Introduces Child Emme With They...   ENTERTAINMENT   \n",
       " 316  Beyoncé Shares Rare Glimpse Of All 3 Kids In N...   ENTERTAINMENT   \n",
       " 108  FEMA Director Says It's ‘Too Early’ To Tell Wh...       U.S. NEWS   \n",
       " 259  ‘Come On, Bernie!’ Why Democrats Left Child Ta...        POLITICS   \n",
       " 399          The Resurgence of American Girl Doll-Core  CULTURE & ARTS   \n",
       " 269  Albuquerque Police Tell Muslim Community To Be...           CRIME   \n",
       " \n",
       "                                      short_description  \\\n",
       " 449  The new docuseries tells the story of the icon...   \n",
       " 66   It’s not about sensationalizing or even tarnis...   \n",
       " 16   Starring Keegan-Michael Key, Judy Greer and Jo...   \n",
       " 281  Speculation about potentially drastic cuts at ...   \n",
       " 360  The new HBO series from the “sick and twisted ...   \n",
       " 391  From a huge showing for \"Abbott Elementary\" to...   \n",
       " 45   The Colombian-American author's new book \"Ligh...   \n",
       " 484  The two iconic artists recently took a leap in...   \n",
       " 454  Films like \"Can't Hardly Wait,\" \"Clueless\" and...   \n",
       " 127  The ‘Stay (I Missed You)’ artist reflects on p...   \n",
       " 204  Celebrity-endorsed biographies have long been ...   \n",
       " 65   The research-based artist has found dynamic wa...   \n",
       " 74   The director told the audience he was \"super e...   \n",
       " 483  \"They're my favorite duet partner of all time,...   \n",
       " 316  The music superstar gave fans an adorable look...   \n",
       " 108  Residents of Mississippi's majority-Black capi...   \n",
       " 259  The only hope for restoring the child benefit ...   \n",
       " 399  The women behind viral American Girl-themed me...   \n",
       " 269  Police are searching for the shooter, or shoot...   \n",
       " \n",
       "                                                authors  \n",
       " 449                                  Candice Frederick  \n",
       " 66                                   Candice Frederick  \n",
       " 16                   Marina Fang and Candice Frederick  \n",
       " 281                                        Marina Fang  \n",
       " 360                                       Cole Delbyck  \n",
       " 391  Marina Fang, Elyse Wanshel, Erin E. Evans, and...  \n",
       " 45                                 Marilyn La Jeunesse  \n",
       " 484                                    Jazmin Tolliver  \n",
       " 454                                  Candice Frederick  \n",
       " 127                                  Candice Frederick  \n",
       " 204                                  Candice Frederick  \n",
       " 65                                        Xintian Wang  \n",
       " 74                                   Marco Margaritoff  \n",
       " 483                                   Josephine Harvey  \n",
       " 316                                       Cole Delbyck  \n",
       " 108                                    Sanjana Karanth  \n",
       " 259                                     Arthur Delaney  \n",
       " 399                                Ruth Etiesit Samuel  \n",
       " 269                                       Sara Boboltz  ,\n",
       " [0.1928791874526149,\n",
       "  0.17025130615174974,\n",
       "  0.16012815380508716,\n",
       "  0.16012815380508716,\n",
       "  0.16012815380508716,\n",
       "  0.14907119849998599,\n",
       "  0.12247448713915893,\n",
       "  0.12009611535381537,\n",
       "  0.11785113019775793,\n",
       "  0.11371470653683552,\n",
       "  0.09622504486493764,\n",
       "  0.08908708063747481,\n",
       "  0.08512565307587487,\n",
       "  0.08512565307587487,\n",
       "  0.08164965809277262,\n",
       "  0.08006407690254358,\n",
       "  0.08006407690254358,\n",
       "  0.08006407690254358,\n",
       "  0.07856742013183862])"
      ]
     },
     "execution_count": 30,
     "metadata": {},
     "output_type": "execute_result"
    }
   ],
   "source": [
    "get_recommendations(txt1, cosine_sim, rev = True)\n"
   ]
  },
  {
   "cell_type": "code",
   "execution_count": 31,
   "id": "829738f9",
   "metadata": {},
   "outputs": [
    {
     "data": {
      "text/plain": [
       "(                                              headline        category  \\\n",
       " 478           Herschel Walker Says There Are 52 States        POLITICS   \n",
       " 250  Why The Justice Department Can’t Say More Abou...        POLITICS   \n",
       " 395  Orange Wine: Everything You Need To Know And P...    FOOD & DRINK   \n",
       " 179  Teachers In Ohio's Largest School District Go ...        POLITICS   \n",
       " 389  ‘Galaxy Gazing Is The New Stargazing’: Cosmolo...         SCIENCE   \n",
       " 2    23 Of The Funniest Tweets About Cats And Dogs ...          COMEDY   \n",
       " 57   Jean-Luc Godard, Pioneering French Filmmaker, ...   ENTERTAINMENT   \n",
       " 204  'Mike' And The Flawed Allure Of Authorized Bio...  CULTURE & ARTS   \n",
       " 272  This Is The Most Underappreciated Part Of The ...        POLITICS   \n",
       " 476  'Jeopardy!' Makes A Spelling Error And Fans Gl...   ENTERTAINMENT   \n",
       " 66   'Sidney' Tackles The Not-So-Comfortable Conver...  CULTURE & ARTS   \n",
       " 95   Fast-Moving Fairview Fire Kills At Least 2 In ...       U.S. NEWS   \n",
       " 225  Officials: Fire At Coptic Church In Cairo Kill...      WORLD NEWS   \n",
       " 238  CDC Drops Some Quarantine, Screening Recommend...       U.S. NEWS   \n",
       " 463  Man Killed By 11-Foot Alligator At South Carol...     ENVIRONMENT   \n",
       " 473  Republicans Are Making It Clear They Want To B...        POLITICS   \n",
       " 474  New On Netflix July 2022: 'Persuasion,' 'Virgi...   HOME & LIVING   \n",
       " 21   Biden Says U.S. Forces Would Defend Taiwan If ...        POLITICS   \n",
       " 155  Jared Kushner Blasts 'Nasty Troll' Chrissy Tei...        POLITICS   \n",
       " \n",
       "                                      short_description  \\\n",
       " 478                                      There are 50.   \n",
       " 250                          And why Donald Trump can.   \n",
       " 395                    No, it's not made from oranges.   \n",
       " 179  Classes are scheduled to resume in just two days.   \n",
       " 389            \"It's going to be fun, this telescope.\"   \n",
       " 2    \"Until you have a dog you don't understand wha...   \n",
       " 57   The director was best known for the groundbrea...   \n",
       " 204  Celebrity-endorsed biographies have long been ...   \n",
       " 272  Some Medicare recipients spend more than $10,0...   \n",
       " 476  The game show clued in viewers that it's not p...   \n",
       " 66   It’s not about sensationalizing or even tarnis...   \n",
       " 95   A second fire killed two people in Northern Ca...   \n",
       " 225  It was one of the worst fire tragedies in Egyp...   \n",
       " 238                        So long, social distancing.   \n",
       " 463  The giant reptile was captured and euthanized ...   \n",
       " 473          The GOP realizes its goal isn’t complete.   \n",
       " 474  The streaming service announced the movies and...   \n",
       " 21   President issues vow as tensions with China rise.   \n",
       " 155                                      Who's nasty??   \n",
       " \n",
       "                                 authors  \n",
       " 478                       Amanda Terkel  \n",
       " 250                     Kevin Robillard  \n",
       " 395                       Beth Krietsch  \n",
       " 179                                      \n",
       " 389                         Nick Visser  \n",
       " 2                         Elyse Wanshel  \n",
       " 57                       Matthew Jacobs  \n",
       " 204                   Candice Frederick  \n",
       " 272                       Jonathan Cohn  \n",
       " 476                          Ron Dicker  \n",
       " 66                    Candice Frederick  \n",
       " 95                          Nick Visser  \n",
       " 225                      Samy Magdy, AP  \n",
       " 238  MIKE STOBBE and COLLIN BINKLEY, AP  \n",
       " 463                      Mary Papenfuss  \n",
       " 473                     Kevin Robillard  \n",
       " 474                    Caroline Bologna  \n",
       " 21                                       \n",
       " 155                      Mary Papenfuss  ,\n",
       " [5.5677643628300215,\n",
       "  5.830951894845301,\n",
       "  5.916079783099616,\n",
       "  6.0,\n",
       "  6.0,\n",
       "  6.082762530298219,\n",
       "  6.082762530298219,\n",
       "  6.164414002968976,\n",
       "  6.164414002968976,\n",
       "  6.164414002968976,\n",
       "  6.244997998398398,\n",
       "  6.244997998398398,\n",
       "  6.244997998398398,\n",
       "  6.244997998398398,\n",
       "  6.244997998398398,\n",
       "  6.244997998398398,\n",
       "  6.244997998398398,\n",
       "  6.324555320336759,\n",
       "  6.324555320336759])"
      ]
     },
     "execution_count": 31,
     "metadata": {},
     "output_type": "execute_result"
    }
   ],
   "source": [
    "get_recommendations(txt1, euclidean_distances_sim, rev = False)"
   ]
  },
  {
   "cell_type": "markdown",
   "id": "31247945",
   "metadata": {},
   "source": [
    "## Comments and Discussion : \n",
    "\n",
    "- The original data set contains ~ 21 lakhs of instances. This is a lot of data. For text data we need to transform it into vectors through vectorization process. Now this amount of data lead to memory issue. So, for now we have studied only 500 instances. \n",
    "\n",
    "\n",
    "\n",
    "- We all know that TF-IDF works better in text vectorization than CountVectorizer. TF-IDF helps to scan the data and bring out the most signigicant text. In this case, we are trying to find the similar news data, this may not be very helpful. While trying to find out the similar data, giving the headline or the author name or the category as input, we need to have vectors which should not weigh down anything. As an example say, we have lesser amount of data corresponding to Money and Parent. Now if we try to find out similar data, we need to find more and more this kind of data. Tf-IDF will not help in this case. (I have done and seen this. If any doubt you are encouraged to do it and observe.) So, for text vectorization, we use Countvectorizer. \n",
    "\n",
    "\n",
    "- In this work we add up all the text columns and make a soup of it, which contains everything. This will help in finding similar texts which will include all the genres. Say, for a topic of given article, it will predict articles from same category or articles written by similar authors etc. \n",
    "\n",
    "\n",
    "\n",
    "- The results are above as shown, and we can observe that both the cosine similarity and euclidean distances give good results. If observe keenly, it can be seen that cosine similarity gives better result than euclidean distances. In case of prediction by cosine similarity, similar text, authors and categories were predicted, which is not observed for euclidean distance. "
   ]
  },
  {
   "cell_type": "markdown",
   "id": "93aebf05",
   "metadata": {},
   "source": [
    "### Some good reads : \n",
    "    \n",
    "\n",
    "- https://kavita-ganesan.com/news-classifier-with-logistic-regression-in-python/#.ZHclBzrhWUk\n",
    "\n",
    "- https://medium.com/@krause60/news-article-clustering-using-unsupervised-learning-7647600a04fd\n",
    "\n",
    "- https://github.com/parkervg/news-article-clustering\n",
    "\n",
    "\n",
    "- https://www.geeksforgeeks.org/movie-recommender-based-on-plot-summary-using-tf-idf-vectorization-and-cosine-similarity/\n",
    "\n",
    "- https://www.analyticsvidhya.com/blog/2022/08/movies-recommendation-system-using-python/\n",
    "\n",
    "- https://a-elkhattam.medium.com/imdb-movie-recommendation-chatbot-942f84dfa0dc\n",
    "\n",
    "- https://www.analyticsvidhya.com/blog/2022/08/building-a-content-based-recommendation-system/\n",
    "\n",
    "- https://www.datacamp.com/tutorial/recommender-systems-python\n",
    "\n",
    "- https://www.datacamp.com/tutorial/recommender-systems-python\n",
    "\n",
    "- https://medium.com/fnplus/evaluating-recommender-systems-with-python-code-ae0c370c90be\n",
    "\n",
    "- https://www.analyticsvidhya.com/blog/2021/02/a-simple-guide-to-metrics-for-calculating-string-similarity/\n",
    "\n",
    "- https://medium.com/msackiit/what-is-text-similarity-and-how-to-implement-it-c74c8b641883 \n",
    "\n",
    "- https://www.baeldung.com/cs/ml-similarities-in-text"
   ]
  },
  {
   "cell_type": "code",
   "execution_count": 32,
   "id": "d4120c70",
   "metadata": {},
   "outputs": [],
   "source": [
    "# https://stackoverflow.com/questions/46427362/jaccard-similarity-for-texts-in-a-pandas-dataframe\n",
    "# https://stackoverflow.com/questions/37003272/how-to-compute-jaccard-similarity-from-a-pandas-dataframe\n",
    "# https://stackoverflow.com/questions/46975929/how-can-i-calculate-the-jaccard-similarity-of-two-lists-containing-strings-in-py\n",
    "# http://billchambers.me/tutorials/2014/12/21/tf-idf-explained-in-python.html"
   ]
  }
 ],
 "metadata": {
  "kernelspec": {
   "display_name": "Python 3",
   "language": "python",
   "name": "python3"
  },
  "language_info": {
   "codemirror_mode": {
    "name": "ipython",
    "version": 3
   },
   "file_extension": ".py",
   "mimetype": "text/x-python",
   "name": "python",
   "nbconvert_exporter": "python",
   "pygments_lexer": "ipython3",
   "version": "3.8.8"
  }
 },
 "nbformat": 4,
 "nbformat_minor": 5
}
